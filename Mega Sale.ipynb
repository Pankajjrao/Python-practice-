{
 "cells": [
  {
   "cell_type": "markdown",
   "id": "2c26997f",
   "metadata": {},
   "source": [
    "## Mega Sale\n",
    "Mr. Geek is a greedy seller. He has a stock of N laptops which comprises of both useful and useless laptops. Now, he wants to organize a sale to clear his stock of useless laptops. The prices of N laptops are Ai each consisting of positive and negative integers (-ve denoting useless laptops). In a day, he can sell atmost M laptops. Mr. Geek being a greedy seller want to earn maximum profit out of this sale. So, help him maximizing his profit by selling useless laptops.\n",
    "\n",
    " \n",
    "\n",
    "Example 1:\n",
    "\n",
    "Input:\n",
    "N=4, M=3\n",
    "A[] = {-6, 0, 35, 4}\n",
    "Output:\n",
    "6\n",
    "Explanation:\n",
    "Geek sells the laptops with price -6 and\n",
    "earns Rs. 6 as profit."
   ]
  },
  {
   "cell_type": "code",
   "execution_count": 1,
   "id": "c636d5b9",
   "metadata": {},
   "outputs": [
    {
     "data": {
      "text/plain": [
       "10"
      ]
     },
     "execution_count": 1,
     "metadata": {},
     "output_type": "execute_result"
    }
   ],
   "source": [
    "def maxProfit( a, n, m):\n",
    "    a.sort()\n",
    "    profit = -0\n",
    "    count = 0\n",
    "    for i in a:\n",
    "        if count == m:\n",
    "            break\n",
    "        else:\n",
    "            if i < 0:\n",
    "                profit += -i\n",
    "                count += 1\n",
    "    return profit\n",
    "\n",
    "a = [-6, 0, 35, -4]\n",
    "n = 4\n",
    "m = 3\n",
    "maxProfit( a, n, m)"
   ]
  },
  {
   "cell_type": "code",
   "execution_count": null,
   "id": "5be2328b",
   "metadata": {},
   "outputs": [],
   "source": []
  }
 ],
 "metadata": {
  "kernelspec": {
   "display_name": "Python 3 (ipykernel)",
   "language": "python",
   "name": "python3"
  },
  "language_info": {
   "codemirror_mode": {
    "name": "ipython",
    "version": 3
   },
   "file_extension": ".py",
   "mimetype": "text/x-python",
   "name": "python",
   "nbconvert_exporter": "python",
   "pygments_lexer": "ipython3",
   "version": "3.10.9"
  }
 },
 "nbformat": 4,
 "nbformat_minor": 5
}
