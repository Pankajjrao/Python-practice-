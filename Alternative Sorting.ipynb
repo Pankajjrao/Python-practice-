{
 "cells": [
  {
   "cell_type": "markdown",
   "id": "f66956ec",
   "metadata": {},
   "source": [
    "## Alternative Sorting\n",
    "Given an array arr[] of N distinct integers, output the array in such a way that the first element is first maximum and the second element is the first minimum, and so on.\n"
   ]
  },
  {
   "cell_type": "code",
   "execution_count": 1,
   "id": "b8987b5b",
   "metadata": {},
   "outputs": [
    {
     "data": {
      "text/plain": [
       "[9, 1, 8, 2, 7, 3, 6, 4]"
      ]
     },
     "execution_count": 1,
     "metadata": {},
     "output_type": "execute_result"
    }
   ],
   "source": [
    "def alternate_Sort(n):\n",
    "    out = []\n",
    "    a = len(n)\n",
    "    n.sort()\n",
    "    \n",
    "    for i in range(a):\n",
    "        if i % 2 == 0:\n",
    "            out.append(n[-1])\n",
    "            n.remove(n[-1])\n",
    "        else:\n",
    "            out.append(n[0])\n",
    "            n.remove(n[0])\n",
    "            \n",
    "    return out\n",
    "\n",
    "n = [1, 6, 9, 4, 3, 7, 8, 2]\n",
    "alternate_Sort(n)"
   ]
  },
  {
   "cell_type": "code",
   "execution_count": 2,
   "id": "9a2af772",
   "metadata": {},
   "outputs": [
    {
     "name": "stdout",
     "output_type": "stream",
     "text": [
      "[9, 1, 8, 2, 7, 3, 6, 4]\n"
     ]
    }
   ],
   "source": [
    "def alternate_Sort1(n):\n",
    "    n.sort()  \n",
    "    out = []\n",
    "    left =  0\n",
    "    right = len(n) - 1\n",
    "    \n",
    "    while left <= right:\n",
    "        if left == right:  \n",
    "            out.append(n[left])\n",
    "        else:\n",
    "            out.append(n[right])\n",
    "            out.append(n[left])\n",
    "        left += 1\n",
    "        right -= 1\n",
    "    \n",
    "    return out\n",
    "\n",
    "n = [1, 6, 9, 4, 3, 7, 8, 2]\n",
    "result = alternate_Sort1(n)\n",
    "print(result)"
   ]
  },
  {
   "cell_type": "code",
   "execution_count": null,
   "id": "63f5efc9",
   "metadata": {},
   "outputs": [],
   "source": []
  }
 ],
 "metadata": {
  "kernelspec": {
   "display_name": "Python 3 (ipykernel)",
   "language": "python",
   "name": "python3"
  },
  "language_info": {
   "codemirror_mode": {
    "name": "ipython",
    "version": 3
   },
   "file_extension": ".py",
   "mimetype": "text/x-python",
   "name": "python",
   "nbconvert_exporter": "python",
   "pygments_lexer": "ipython3",
   "version": "3.10.9"
  }
 },
 "nbformat": 4,
 "nbformat_minor": 5
}
