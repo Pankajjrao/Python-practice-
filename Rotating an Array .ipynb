{
 "cells": [
  {
   "cell_type": "markdown",
   "id": "83c35f8f",
   "metadata": {},
   "source": [
    "## Rotating an Array\n",
    "Input:\n",
    "N = 7\n",
    "\n",
    "Arr[] = {1, 2, 3, 4, 5, 6, 7}\n",
    "\n",
    "D = 2\n",
    "\n",
    "Output: 3 4 5 6 7 1 2\n",
    "\n",
    "Explanation: \n",
    "Rotate by 1: [2, 3, 4, 5, 6, 7, 1]\n",
    "Rotate by 2: [3, 4, 5, 6, 7, 1, 2]\n"
   ]
  },
  {
   "cell_type": "code",
   "execution_count": 1,
   "id": "a0906d4d",
   "metadata": {},
   "outputs": [
    {
     "data": {
      "text/plain": [
       "[3, 4, 5, 1, 2]"
      ]
     },
     "execution_count": 1,
     "metadata": {},
     "output_type": "execute_result"
    }
   ],
   "source": [
    "## FULL CODE\n",
    "\n",
    "def rotate(arr,n,d):\n",
    "    # first rotate the elements till d\n",
    "    l, r = 0, d-1\n",
    "    while l < r:\n",
    "        arr[l],arr[r] = arr[r], arr[l]\n",
    "        l += 1\n",
    "        r -= 1\n",
    "\n",
    "     # NOw rotated the elemets after d\n",
    "    l, r = d, n-1\n",
    "    while l < r:\n",
    "        arr[l], arr[r] = arr[r], arr[l]\n",
    "        l += 1\n",
    "        r -= 1\n",
    "\n",
    "    ## Now reverse the whole array\n",
    "    l, r = 0, n-1\n",
    "    while l < r:\n",
    "        arr[l], arr[r] = arr[r], arr[l]\n",
    "        l += 1\n",
    "        r -= 1\n",
    "    return arr\n",
    "    \n",
    "    \n",
    "    \n",
    "arr = [1, 2, 3, 4, 5]\n",
    "d = 2\n",
    "n = len(arr)\n",
    "rotate(arr,n,d)"
   ]
  },
  {
   "cell_type": "code",
   "execution_count": 2,
   "id": "f7800d82",
   "metadata": {},
   "outputs": [
    {
     "data": {
      "text/plain": [
       "[3, 4, 5, 6, 7, 1, 2]"
      ]
     },
     "execution_count": 2,
     "metadata": {},
     "output_type": "execute_result"
    }
   ],
   "source": [
    "def rotate(arr,d):\n",
    "    for i in range(d):\n",
    "        popped = arr.pop(0)\n",
    "        arr.append(popped)\n",
    "    return arr\n",
    "\n",
    "arr = [1, 2, 3, 4, 5, 6, 7]\n",
    "d = 2\n",
    "rotate(arr,d)"
   ]
  },
  {
   "cell_type": "code",
   "execution_count": 3,
   "id": "4a51ddf4",
   "metadata": {},
   "outputs": [
    {
     "data": {
      "text/plain": [
       "[3, 4, 5, 1, 2]"
      ]
     },
     "execution_count": 3,
     "metadata": {},
     "output_type": "execute_result"
    }
   ],
   "source": [
    "def rotate(arr,n,d):\n",
    "    d = d % n\n",
    "    return arr[d:] + arr[:d]\n",
    "\n",
    "arr = [1, 2, 3, 4, 5]\n",
    "d = 2\n",
    "n = len(arr)\n",
    "rotate(arr,n,d)"
   ]
  },
  {
   "cell_type": "code",
   "execution_count": null,
   "id": "f817d242",
   "metadata": {},
   "outputs": [],
   "source": []
  }
 ],
 "metadata": {
  "kernelspec": {
   "display_name": "Python 3 (ipykernel)",
   "language": "python",
   "name": "python3"
  },
  "language_info": {
   "codemirror_mode": {
    "name": "ipython",
    "version": 3
   },
   "file_extension": ".py",
   "mimetype": "text/x-python",
   "name": "python",
   "nbconvert_exporter": "python",
   "pygments_lexer": "ipython3",
   "version": "3.10.9"
  }
 },
 "nbformat": 4,
 "nbformat_minor": 5
}
