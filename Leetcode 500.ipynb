{
 "cells": [
  {
   "cell_type": "markdown",
   "id": "4936e29c",
   "metadata": {},
   "source": [
    "## 500. Keyboard Row\n",
    "Given an array of strings words, return the words that can be typed using letters of the alphabet on only one row of American keyboard like the image below.\n",
    "\n",
    "In the American keyboard:\n",
    "\n",
    " - the first row consists of the characters \"qwertyuiop\",\n",
    "- the second row consists of the characters \"asdfghjkl\", and\n",
    "- the third row consists of the characters \"zxcvbnm\".\n",
    "\n",
    "Example 1:\n",
    "- Input: words = [\"Hello\",\"Alaska\",\"Dad\",\"Peace\"]\n",
    "- Output: [\"Alaska\",\"Dad\"]\n",
    "\n",
    "Example 2:\n",
    "- Input: words = [\"omk\"]\n",
    "- Output: []\n",
    "\n",
    "\n",
    "Example 3:\n",
    "- Input: words = [\"adsdf\",\"sfd\"]\n",
    " - Output: [\"adsdf\",\"sfd\"]"
   ]
  },
  {
   "cell_type": "markdown",
   "id": "db726e10",
   "metadata": {},
   "source": [
    "## Observation to be noted\n",
    "When comparing sets:\n",
    "\n",
    "- set1 <= set2 checks if every element of set1 is in set2 (subset).\n",
    "- set1 >= set2 checks if every element of set2 is in set1 (superset).\n",
    "- set1 == set2 checks if both sets have the same elements, regardless of order."
   ]
  },
  {
   "cell_type": "code",
   "execution_count": 1,
   "id": "1093f456",
   "metadata": {},
   "outputs": [
    {
     "data": {
      "text/plain": [
       "['Alaska', 'Dad', 'PORT']"
      ]
     },
     "execution_count": 1,
     "metadata": {},
     "output_type": "execute_result"
    }
   ],
   "source": [
    "def abc(l1):\n",
    "    row1 = \"qwertyuiop\"\n",
    "    row2 = \"asdfghjkl\"\n",
    "    row3 = \"zxcvbnm\"\n",
    "    \n",
    "    out_list = []\n",
    "\n",
    "    for word in l1:             # Iterating over words in list\n",
    "        row_set_word = set()\n",
    "        for letter in word.lower():   # iterating over letter in word\n",
    "            if letter in row1:\n",
    "                row_set_word.add(1)   # adding one in row_set_word of if letter is in row1\n",
    "            elif letter in row2:\n",
    "                row_set_word.add(2)   # adding one in row_set_word of if letter is in row1\n",
    "            else:\n",
    "                row_set_word.add(3)   # adding one in row_set_word of if letter is in row1\n",
    "                \n",
    "        if len(row_set_word) == 1:  # If all characters are from a single row then the length of row_set_word should be 1\n",
    "            out_list.append(word)    \n",
    "    \n",
    "    return out_list\n",
    "        \n",
    "\n",
    "l1 = [\"Hello\",\"Alaska\",\"Dad\",\"Peace\",\"Pankaj\",\"PORT\"]\n",
    "abc(l1)\n",
    "\n"
   ]
  },
  {
   "cell_type": "code",
   "execution_count": 2,
   "id": "4bd51e44",
   "metadata": {},
   "outputs": [
    {
     "data": {
      "text/plain": [
       "['Alaska', 'Dad', 'PORT']"
      ]
     },
     "execution_count": 2,
     "metadata": {},
     "output_type": "execute_result"
    }
   ],
   "source": [
    "'''if we use comparison operators b/w two or more sets it checks if each element in set1 is available in set2,\n",
    "but if we do the same with lists and tuples etc it does not check that if each element in list1 is available in list2\n",
    "'''\n",
    "\n",
    "def abcd(l1):   \n",
    "    result = []\n",
    "    set1 = set(\"qwertyuiop\")\n",
    "    set2 = set(\"asdfghjkl\")\n",
    "    set3 = set(\"zxcvbnm\")\n",
    "    for word in l1:                         # Iterating over words in list\n",
    "        w = set(word.lower())               # converting word.lower() into a set\n",
    "        if w <= set1 or w <= set2 or w <= set3:    \n",
    "            result.append(word)\n",
    "    return result\n",
    "\n",
    "l1 = [\"Hello\",\"Alaska\",\"Dad\",\"Peace\",\"Pankaj\",\"PORT\"]\n",
    "abcd(l1)"
   ]
  },
  {
   "cell_type": "code",
   "execution_count": null,
   "id": "4cee5393",
   "metadata": {},
   "outputs": [],
   "source": []
  }
 ],
 "metadata": {
  "kernelspec": {
   "display_name": "Python 3 (ipykernel)",
   "language": "python",
   "name": "python3"
  },
  "language_info": {
   "codemirror_mode": {
    "name": "ipython",
    "version": 3
   },
   "file_extension": ".py",
   "mimetype": "text/x-python",
   "name": "python",
   "nbconvert_exporter": "python",
   "pygments_lexer": "ipython3",
   "version": "3.10.9"
  }
 },
 "nbformat": 4,
 "nbformat_minor": 5
}
