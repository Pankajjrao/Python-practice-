{
 "cells": [
  {
   "cell_type": "markdown",
   "id": "83c35f8f",
   "metadata": {},
   "source": [
    " ## Largest product\n",
    "Given an array consisting of N positive integers, and an integer k .You have to find the maximum product of k contiguous elements in the array."
   ]
  },
  {
   "cell_type": "code",
   "execution_count": 3,
   "id": "f9b9d333",
   "metadata": {},
   "outputs": [
    {
     "name": "stdout",
     "output_type": "stream",
     "text": [
      "35\n"
     ]
    }
   ],
   "source": [
    "k = 2\n",
    "arr = [3, 7, 5, 6]\n",
    "n = len(arr)\n",
    "\n",
    "def product(array):\n",
    "    output = 1\n",
    "    for i in array:\n",
    "        output *= i\n",
    "    return output\n",
    "\n",
    "multiplications = []\n",
    "array = []\n",
    "\n",
    "for i in range(n):\n",
    "    array.append(arr[i])\n",
    "    if len(array) == k:\n",
    "        multi = product(array)\n",
    "        multiplications.append(multi)\n",
    "        array = array[1:]\n",
    "\n",
    "print(max(multiplications))\n"
   ]
  },
  {
   "cell_type": "code",
   "execution_count": null,
   "id": "d0f09889",
   "metadata": {},
   "outputs": [],
   "source": []
  }
 ],
 "metadata": {
  "kernelspec": {
   "display_name": "Python 3 (ipykernel)",
   "language": "python",
   "name": "python3"
  },
  "language_info": {
   "codemirror_mode": {
    "name": "ipython",
    "version": 3
   },
   "file_extension": ".py",
   "mimetype": "text/x-python",
   "name": "python",
   "nbconvert_exporter": "python",
   "pygments_lexer": "ipython3",
   "version": "3.10.9"
  }
 },
 "nbformat": 4,
 "nbformat_minor": 5
}
