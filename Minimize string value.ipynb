{
 "cells": [
  {
   "cell_type": "markdown",
   "id": "2c26997f",
   "metadata": {},
   "source": [
    "## Minimize string value\n",
    "Given a string of lowercase alphabets and a number k, the task is to find the minimum value of the string after removal of ‘k’ characters. \n",
    "The value of a string is defined as the sum of squares of the count of each distinct character.\n",
    "For example consider the string “geeks”, here frequencies of characters are g -> 1, e -> 2, k -> 1, s -> 1 and value of the string is 12 + 22 + 12 + 12 = 7\n",
    " \n",
    "\n",
    "Example 1:\n",
    "\n",
    "Input: S = \"abccc\", K = 1\n",
    "Output: 6\n",
    "Explanation: Remove one 'c', then frequency\n",
    "will be a -> 1, b -> 1, c -> 2.\n",
    "12 + 12 + 22 = 6"
   ]
  },
  {
   "cell_type": "code",
   "execution_count": 1,
   "id": "c636d5b9",
   "metadata": {},
   "outputs": [
    {
     "data": {
      "text/plain": [
       "16"
      ]
     },
     "execution_count": 1,
     "metadata": {},
     "output_type": "execute_result"
    }
   ],
   "source": [
    "def minValue( S, K):\n",
    "    d = {}\n",
    "    output = 0\n",
    "    for i in S:\n",
    "        if i in d:\n",
    "            d[i] += 1\n",
    "        else:\n",
    "            d[i] = 1\n",
    "\n",
    "    sorted_freq = sorted(list(d.values()),reverse = True)\n",
    "\n",
    "    for i in range(K):\n",
    "        if sorted_freq:\n",
    "            sorted_freq[0] -= 1\n",
    "            if sorted_freq[0] == 0:\n",
    "                sorted_freq.pop(0)\n",
    "            sorted_freq.sort(reverse = True)\n",
    "\n",
    "    output = sum(i**2 for i in sorted_freq)\n",
    "    return output\n",
    "\n",
    "\n",
    "s = \"ddbbbcdeda\"\n",
    "k = 2\n",
    "minValue( s, k)"
   ]
  },
  {
   "cell_type": "code",
   "execution_count": null,
   "id": "5be2328b",
   "metadata": {},
   "outputs": [],
   "source": []
  }
 ],
 "metadata": {
  "kernelspec": {
   "display_name": "Python 3 (ipykernel)",
   "language": "python",
   "name": "python3"
  },
  "language_info": {
   "codemirror_mode": {
    "name": "ipython",
    "version": 3
   },
   "file_extension": ".py",
   "mimetype": "text/x-python",
   "name": "python",
   "nbconvert_exporter": "python",
   "pygments_lexer": "ipython3",
   "version": "3.10.9"
  }
 },
 "nbformat": 4,
 "nbformat_minor": 5
}
