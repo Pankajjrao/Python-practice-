{
 "cells": [
  {
   "cell_type": "markdown",
   "id": "733fbebf",
   "metadata": {},
   "source": [
    "## 942. DI String Match\n",
    "\n",
    "Example 1:\n",
    "- Input: s = \"IDID\"\n",
    "- Output: [0,4,1,3,2]\n",
    "\n",
    "Example 2:\n",
    "- Input: s = \"III\"\n",
    "- Output: [0,1,2,3]\n",
    "\n",
    "Example 3:\n",
    "- Input: s = \"DDI\"\n",
    "- Output: [3,2,0,1]"
   ]
  },
  {
   "cell_type": "code",
   "execution_count": 1,
   "id": "96da0d72",
   "metadata": {},
   "outputs": [
    {
     "data": {
      "text/plain": [
       "[5, 4, 0, 3, 1, 2]"
      ]
     },
     "execution_count": 1,
     "metadata": {},
     "output_type": "execute_result"
    }
   ],
   "source": [
    "def abc(s):\n",
    "    I = 0\n",
    "    D = len(s)\n",
    "    output = []\n",
    "    for i in range(len(s)):\n",
    "        if s[i] == 'I':\n",
    "            output.append(I)\n",
    "            I += 1\n",
    "        elif s[i] == 'D':\n",
    "            output.append(D)\n",
    "            D -=  1\n",
    "    output.append(min(I,D))\n",
    "    return output\n",
    "\n",
    "s = \"DDIDI\"\n",
    "abc(s)"
   ]
  },
  {
   "cell_type": "code",
   "execution_count": null,
   "id": "72fd28ec",
   "metadata": {},
   "outputs": [],
   "source": []
  }
 ],
 "metadata": {
  "kernelspec": {
   "display_name": "Python 3 (ipykernel)",
   "language": "python",
   "name": "python3"
  },
  "language_info": {
   "codemirror_mode": {
    "name": "ipython",
    "version": 3
   },
   "file_extension": ".py",
   "mimetype": "text/x-python",
   "name": "python",
   "nbconvert_exporter": "python",
   "pygments_lexer": "ipython3",
   "version": "3.10.9"
  }
 },
 "nbformat": 4,
 "nbformat_minor": 5
}
