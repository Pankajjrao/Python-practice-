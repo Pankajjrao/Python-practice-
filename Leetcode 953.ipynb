{
 "cells": [
  {
   "cell_type": "markdown",
   "id": "733fbebf",
   "metadata": {},
   "source": [
    "## 953. Verifying an Alien Dictionary\n",
    "\n",
    "In an alien language, surprisingly, they also use English lowercase letters, but possibly in a different order. The order of the alphabet is some permutation of lowercase letters.\n",
    "\n",
    "Given a sequence of words written in the alien language, and the order of the alphabet, return true if and only if the given words are sorted lexicographically in this alien language.\n",
    "\n",
    "- Input: words = [\"hello\",\"leetcode\"], order = \"hlabcdefgijkmnopqrstuvwxyz\"\n",
    "- Output: true\n",
    "- Explanation: As 'h' comes before 'l' in this language, then the sequence is sorted."
   ]
  },
  {
   "cell_type": "code",
   "execution_count": 1,
   "id": "681aff21",
   "metadata": {},
   "outputs": [
    {
     "data": {
      "text/plain": [
       "False"
      ]
     },
     "execution_count": 1,
     "metadata": {},
     "output_type": "execute_result"
    }
   ],
   "source": [
    "def abc(words, order):\n",
    "    order_index = {c:i  for i,c in enumerate(order)}   # Mapping the order in a dictionary as {character:index}\n",
    "    for i in range(len(words) -1):                   # iterating till the last word\n",
    "        w1 = words[i]\n",
    "        w2 = words[i+1]\n",
    "\n",
    "        for j in range(len(w1)):                    # iterating till the len of word1\n",
    "            if j == len(w2):                        # it means that characters in w1 and w2 are same till the len of w2 and w2 is smaller\n",
    "                return False\n",
    "            if w1[j] != w2[j]:                     \n",
    "                if order_index[w1[j]] > order_index[w2[j]]:     # checking the index of characters in w1 and w2\n",
    "                    return False\n",
    "                break\n",
    "    return True\n",
    "\n",
    "order = \"hlabcdefgijkmnopqrstuvwxyz\"\n",
    "words = [\"apple\",\"app\"]\n",
    "abc(words,order)"
   ]
  },
  {
   "cell_type": "code",
   "execution_count": 2,
   "id": "8c954167",
   "metadata": {},
   "outputs": [
    {
     "data": {
      "text/plain": [
       "True"
      ]
     },
     "execution_count": 2,
     "metadata": {},
     "output_type": "execute_result"
    }
   ],
   "source": [
    "def bca(words, order):\n",
    "    order_index = {c:i  for i,c in enumerate(order)}   # Mapping the order in a dictionary as {character:index}\\\n",
    "    \n",
    "    word_index = []                              # storing the index of each character of a word \n",
    "    for i in words:\n",
    "        tmp = []\n",
    "        for c in i:\n",
    "            tmp.append(order_index[c])\n",
    "        word_index.append(tmp)\n",
    "        \n",
    "    for i in range(1,len(word_index)):\n",
    "        if word_index[i] < word_index[i-1] : return False      \n",
    "    return True\n",
    "\n",
    "\n",
    "order = \"hlabcdefgijkmnopqrstuvwxyz\"\n",
    "words = [\"hlm\",\"az\"]\n",
    "bca(words,order)"
   ]
  },
  {
   "cell_type": "code",
   "execution_count": null,
   "id": "fe00fd6f",
   "metadata": {},
   "outputs": [],
   "source": []
  },
  {
   "cell_type": "code",
   "execution_count": null,
   "id": "ebb1477d",
   "metadata": {},
   "outputs": [],
   "source": []
  },
  {
   "cell_type": "code",
   "execution_count": null,
   "id": "b5f7df0a",
   "metadata": {},
   "outputs": [],
   "source": []
  },
  {
   "cell_type": "code",
   "execution_count": null,
   "id": "9fdb2d93",
   "metadata": {},
   "outputs": [],
   "source": []
  },
  {
   "cell_type": "code",
   "execution_count": null,
   "id": "9f332658",
   "metadata": {},
   "outputs": [],
   "source": []
  },
  {
   "cell_type": "code",
   "execution_count": null,
   "id": "ccb29c9e",
   "metadata": {},
   "outputs": [],
   "source": []
  },
  {
   "cell_type": "code",
   "execution_count": null,
   "id": "c6e47a87",
   "metadata": {},
   "outputs": [],
   "source": []
  },
  {
   "cell_type": "code",
   "execution_count": null,
   "id": "eb6cf25c",
   "metadata": {},
   "outputs": [],
   "source": []
  },
  {
   "cell_type": "code",
   "execution_count": null,
   "id": "605a708b",
   "metadata": {},
   "outputs": [],
   "source": []
  }
 ],
 "metadata": {
  "kernelspec": {
   "display_name": "Python 3 (ipykernel)",
   "language": "python",
   "name": "python3"
  },
  "language_info": {
   "codemirror_mode": {
    "name": "ipython",
    "version": 3
   },
   "file_extension": ".py",
   "mimetype": "text/x-python",
   "name": "python",
   "nbconvert_exporter": "python",
   "pygments_lexer": "ipython3",
   "version": "3.10.9"
  }
 },
 "nbformat": 4,
 "nbformat_minor": 5
}
