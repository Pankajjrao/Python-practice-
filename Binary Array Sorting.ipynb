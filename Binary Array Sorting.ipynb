{
 "cells": [
  {
   "cell_type": "markdown",
   "id": "83c35f8f",
   "metadata": {},
   "source": [
    "## Rotating an Array\n",
    "\n",
    "Given a binary array A[] of size N. The task is to arrange the array in increasing order.\n",
    "Note: The binary array contains only 0  and 1.\n",
    " "
   ]
  },
  {
   "cell_type": "code",
   "execution_count": 6,
   "id": "d4e0fa36",
   "metadata": {},
   "outputs": [
    {
     "data": {
      "text/plain": [
       "[0, 0, 0, 1, 1, 1]"
      ]
     },
     "execution_count": 6,
     "metadata": {},
     "output_type": "execute_result"
    }
   ],
   "source": [
    "barr = [1, 0, 1, 1, 0, 0]\n",
    "n = len(barr) \n",
    " \n",
    "l,r = 0, n-1           # l is index 0  and r is index 4 (i.e last index)\n",
    "while l <= r:\n",
    "    if barr[l] == 0:\n",
    "        l += 1\n",
    "    elif barr[r] == 1:\n",
    "        r -= 1\n",
    "    else:\n",
    "        barr[l], barr[r] = barr[r],barr[l]\n",
    "barr"
   ]
  },
  {
   "cell_type": "code",
   "execution_count": null,
   "id": "6074c481",
   "metadata": {},
   "outputs": [],
   "source": []
  }
 ],
 "metadata": {
  "kernelspec": {
   "display_name": "Python 3 (ipykernel)",
   "language": "python",
   "name": "python3"
  },
  "language_info": {
   "codemirror_mode": {
    "name": "ipython",
    "version": 3
   },
   "file_extension": ".py",
   "mimetype": "text/x-python",
   "name": "python",
   "nbconvert_exporter": "python",
   "pygments_lexer": "ipython3",
   "version": "3.10.9"
  }
 },
 "nbformat": 4,
 "nbformat_minor": 5
}
