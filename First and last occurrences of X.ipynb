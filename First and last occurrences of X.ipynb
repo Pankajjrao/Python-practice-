{
 "cells": [
  {
   "cell_type": "markdown",
   "id": "ea5c4e78",
   "metadata": {},
   "source": [
    "## First and last occurrences of X\n",
    "Given a sorted array having N elements, find the indices of the first and last occurrences of an element X in the given array.\n",
    "\n",
    "Note: If the number X is not found in the array, return '-1' as an array."
   ]
  },
  {
   "cell_type": "code",
   "execution_count": 3,
   "id": "c8c5914e",
   "metadata": {},
   "outputs": [
    {
     "data": {
      "text/plain": [
       "(0, 0)"
      ]
     },
     "execution_count": 3,
     "metadata": {},
     "output_type": "execute_result"
    }
   ],
   "source": [
    "def firstAndLast(arr, n, x): \n",
    "        first = None\n",
    "        last = None\n",
    "        \n",
    "        for i in range(n):\n",
    "            if arr[i] == x:\n",
    "                if first is None:\n",
    "                    first = i\n",
    "                last = i\n",
    "        if first is not None and last is not None :\n",
    "            return first,last\n",
    "        return -1\n",
    "\n",
    "arr = [5]\n",
    "n = len(arr)\n",
    "x = 5\n",
    "firstAndLast(arr,n,x)"
   ]
  },
  {
   "cell_type": "code",
   "execution_count": null,
   "id": "5e44e580",
   "metadata": {},
   "outputs": [],
   "source": []
  }
 ],
 "metadata": {
  "kernelspec": {
   "display_name": "Python 3 (ipykernel)",
   "language": "python",
   "name": "python3"
  },
  "language_info": {
   "codemirror_mode": {
    "name": "ipython",
    "version": 3
   },
   "file_extension": ".py",
   "mimetype": "text/x-python",
   "name": "python",
   "nbconvert_exporter": "python",
   "pygments_lexer": "ipython3",
   "version": "3.10.9"
  }
 },
 "nbformat": 4,
 "nbformat_minor": 5
}
