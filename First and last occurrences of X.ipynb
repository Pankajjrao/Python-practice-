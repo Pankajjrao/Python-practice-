{
 "cells": [
  {
   "cell_type": "markdown",
   "id": "ea5c4e78",
   "metadata": {},
   "source": [
    "# Anagram of a string\n",
    "Given two strings S1 and S2 in lowercase, the task is to make them anagram. The only allowed operation is to remove a character from any string."
   ]
  },
  {
   "cell_type": "code",
   "execution_count": 1,
   "id": "c8c5914e",
   "metadata": {},
   "outputs": [
    {
     "data": {
      "text/plain": [
       "11"
      ]
     },
     "execution_count": 1,
     "metadata": {},
     "output_type": "execute_result"
    }
   ],
   "source": [
    "def remAnagram(str1,str2):\n",
    "    d1 = {}\n",
    "    d2 = {}\n",
    "    count = 0\n",
    "    \n",
    "    for i in str1:\n",
    "        d1[i] = d1.get(i,0) + 1\n",
    "\n",
    "    for i in str2:\n",
    "        d2[i] = d2.get(i,0) + 1\n",
    "        \n",
    "    for k,v in d1.items():\n",
    "        if k not in d2.keys():\n",
    "            count += v\n",
    "        elif k in d2.keys() and d2.get(k) < v:\n",
    "            count +=   v - d2.get(k)\n",
    "        elif k in d2.keys() and d2.get(k) > v:\n",
    "            count +=  d2.get(k) - v\n",
    "    \n",
    "    for k,v in d2.items():\n",
    "        if k not in d1.keys():\n",
    "            count += v\n",
    "            \n",
    "    return count\n",
    "\n",
    "s1 = \"basgadhbfgvhads\"\n",
    "s2 = \"sjdhgvbjdsbhvbvd\"\n",
    "remAnagram(s1,s2)"
   ]
  },
  {
   "cell_type": "code",
   "execution_count": null,
   "id": "5e44e580",
   "metadata": {},
   "outputs": [],
   "source": []
  }
 ],
 "metadata": {
  "kernelspec": {
   "display_name": "Python 3 (ipykernel)",
   "language": "python",
   "name": "python3"
  },
  "language_info": {
   "codemirror_mode": {
    "name": "ipython",
    "version": 3
   },
   "file_extension": ".py",
   "mimetype": "text/x-python",
   "name": "python",
   "nbconvert_exporter": "python",
   "pygments_lexer": "ipython3",
   "version": "3.10.9"
  }
 },
 "nbformat": 4,
 "nbformat_minor": 5
}
