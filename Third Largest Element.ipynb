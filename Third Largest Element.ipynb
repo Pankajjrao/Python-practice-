{
 "cells": [
  {
   "cell_type": "markdown",
   "id": "092bbdeb",
   "metadata": {},
   "source": [
    "## Third largest element\n",
    "Given an array of distinct elements. Find the third largest element in it.\n",
    "\n",
    "Suppose you have A[] = {1, 2, 3, 4, 5, 6, 7}, its output will be 5 because it is the 3 largest element in the array A."
   ]
  },
  {
   "cell_type": "code",
   "execution_count": 1,
   "id": "3ccfbc81",
   "metadata": {},
   "outputs": [
    {
     "data": {
      "text/plain": [
       "748"
      ]
     },
     "execution_count": 1,
     "metadata": {},
     "output_type": "execute_result"
    }
   ],
   "source": [
    "a = [884, 337, 689, 587, 748, 308, 451, 785, 682, 600, 733, 537, 403, 188, 162, 562, 274, 513, 383, 617, 662, 508, 111, 57, 160]\n",
    "\n",
    "first = 0\n",
    "second = 0\n",
    "third = 0\n",
    "\n",
    "if len(a) < 3:\n",
    "    print(\"False\")\n",
    "else:\n",
    "    for i in a:\n",
    "        if i > first:\n",
    "            first,second,third = i,first,second\n",
    "        elif i > second and i != first:\n",
    "            second, third = i, second\n",
    "        elif i > third and i != first and i != second:\n",
    "            third = i\n",
    "\n",
    "third"
   ]
  },
  {
   "cell_type": "code",
   "execution_count": null,
   "id": "825af8f7",
   "metadata": {},
   "outputs": [],
   "source": []
  }
 ],
 "metadata": {
  "kernelspec": {
   "display_name": "Python 3 (ipykernel)",
   "language": "python",
   "name": "python3"
  },
  "language_info": {
   "codemirror_mode": {
    "name": "ipython",
    "version": 3
   },
   "file_extension": ".py",
   "mimetype": "text/x-python",
   "name": "python",
   "nbconvert_exporter": "python",
   "pygments_lexer": "ipython3",
   "version": "3.10.9"
  }
 },
 "nbformat": 4,
 "nbformat_minor": 5
}
