{
 "cells": [
  {
   "cell_type": "markdown",
   "id": "733fbebf",
   "metadata": {},
   "source": [
    "## 9. Palindrome Number\n",
    "Given an integer x, return true if x is a \n",
    "palindrome\n",
    ", and false otherwise.\n",
    "\n",
    "\n",
    "\n",
    "Example 1:\n",
    "\n",
    "Input: x = 121\n",
    "Output: true\n",
    "Explanation: 121 reads as 121 from left to right and from right to left.\n"
   ]
  },
  {
   "cell_type": "code",
   "execution_count": 2,
   "id": "605a708b",
   "metadata": {},
   "outputs": [
    {
     "data": {
      "text/plain": [
       "True"
      ]
     },
     "execution_count": 2,
     "metadata": {},
     "output_type": "execute_result"
    }
   ],
   "source": [
    "# Without converting into a string\n",
    "def palindrome(x): \n",
    "    temp = x   # assigning the value ofx to a temporary variable temp\n",
    "    rev = 0    # This variable will hold the reversed value\n",
    "    \n",
    "    if x <= 0 or x % 10 == 0:  # If remainder of x is 0 when divided by 10 it's not a palindrome (because it means that the last no in x is 0 like (100) and reverse of it will be (001) and numbers cannot start with 0)\n",
    "        return False\n",
    "    \n",
    "    while temp > 0 :\n",
    "        digit = temp % 10       # Taking last value of temp into digit by remainder division\n",
    "        rev = rev * 10 + digit  # adding digit value into the rev variable\n",
    "        temp = temp // 10       # Deleting the last value of temp variable\n",
    "\n",
    "    return rev == x \n",
    "palindrome(10001)"
   ]
  },
  {
   "cell_type": "code",
   "execution_count": 4,
   "id": "3395780f",
   "metadata": {},
   "outputs": [
    {
     "data": {
      "text/plain": [
       "True"
      ]
     },
     "execution_count": 4,
     "metadata": {},
     "output_type": "execute_result"
    }
   ],
   "source": [
    "def palindrome(x):\n",
    "    a = str(x)[::-1]\n",
    "    if a == str(x):\n",
    "        return True\n",
    "    return False\n",
    "\n",
    "palindrome(121)"
   ]
  },
  {
   "cell_type": "code",
   "execution_count": null,
   "id": "c7c813d6",
   "metadata": {},
   "outputs": [],
   "source": []
  },
  {
   "cell_type": "code",
   "execution_count": null,
   "id": "3ccfbc81",
   "metadata": {},
   "outputs": [],
   "source": []
  },
  {
   "cell_type": "code",
   "execution_count": null,
   "id": "825af8f7",
   "metadata": {},
   "outputs": [],
   "source": []
  }
 ],
 "metadata": {
  "kernelspec": {
   "display_name": "Python 3 (ipykernel)",
   "language": "python",
   "name": "python3"
  },
  "language_info": {
   "codemirror_mode": {
    "name": "ipython",
    "version": 3
   },
   "file_extension": ".py",
   "mimetype": "text/x-python",
   "name": "python",
   "nbconvert_exporter": "python",
   "pygments_lexer": "ipython3",
   "version": "3.10.9"
  }
 },
 "nbformat": 4,
 "nbformat_minor": 5
}
