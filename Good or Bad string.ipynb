{
 "cells": [
  {
   "cell_type": "markdown",
   "id": "11f8e138",
   "metadata": {},
   "source": [
    "## Good or Bad string\n",
    "In this problem, a String S is composed of lowercase alphabets and wildcard characters i.e. '?'. Here, '?' can be replaced by any of the lowercase alphabets. Now you have to classify the given String on the basis of following rules:\n",
    "\n",
    "If there are more than 3 consonants together or more than 5 vowels together, the String is considered to be \"BAD\". A String is considered \"GOOD\" only if it is not “BAD”.\n",
    "\n",
    "NOTE: String is considered as \"BAD\" if the above condition is satisfied even once. Else it is \"GOOD\" and the task is to make the string \"BAD\""
   ]
  },
  {
   "cell_type": "code",
   "execution_count": 4,
   "id": "ca491d79",
   "metadata": {},
   "outputs": [
    {
     "data": {
      "text/plain": [
       "'GOOD'"
      ]
     },
     "execution_count": 4,
     "metadata": {},
     "output_type": "execute_result"
    }
   ],
   "source": [
    "def isGoodorBad(S):\n",
    "        \n",
    "        vowels = 'aeiou'\n",
    "        vowel_count = 0\n",
    "        consonant_count = 0\n",
    "\n",
    "        for char in S:\n",
    "\n",
    "            if char == '?':\n",
    "                vowel_count += 1\n",
    "                consonant_count += 1\n",
    "\n",
    "            elif char in vowels:\n",
    "                vowel_count += 1\n",
    "                consonant_count = 0\n",
    "\n",
    "            else:\n",
    "                consonant_count += 1\n",
    "                vowel_count = 0\n",
    "\n",
    "            if consonant_count > 3 or vowel_count > 5:\n",
    "                return \"BAD\"\n",
    "\n",
    "        return \"GOOD\"\n",
    "    \n",
    "s = \"geeksforgee??\"\n",
    "isGoodorBad(s)"
   ]
  },
  {
   "cell_type": "code",
   "execution_count": null,
   "id": "e94e7757",
   "metadata": {},
   "outputs": [],
   "source": []
  }
 ],
 "metadata": {
  "kernelspec": {
   "display_name": "Python 3 (ipykernel)",
   "language": "python",
   "name": "python3"
  },
  "language_info": {
   "codemirror_mode": {
    "name": "ipython",
    "version": 3
   },
   "file_extension": ".py",
   "mimetype": "text/x-python",
   "name": "python",
   "nbconvert_exporter": "python",
   "pygments_lexer": "ipython3",
   "version": "3.10.9"
  }
 },
 "nbformat": 4,
 "nbformat_minor": 5
}
