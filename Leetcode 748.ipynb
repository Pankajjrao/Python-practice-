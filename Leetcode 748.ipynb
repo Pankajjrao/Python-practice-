{
 "cells": [
  {
   "cell_type": "markdown",
   "id": "29b3554e",
   "metadata": {},
   "source": [
    "## 748. Shortest Completing Word\n",
    "Given a string licensePlate and an array of strings words, find the shortest completing word in words.\n",
    "\n",
    "A completing word is a word that contains all the letters in licensePlate. Ignore numbers and spaces in licensePlate, and treat letters as case insensitive. If a letter appears more than once in licensePlate, then it must appear in the word the same number of times or more.\n",
    "\n",
    "For example, if licensePlate = \"aBc 12c\", then it contains letters 'a', 'b' (ignoring case), and 'c' twice. Possible completing words are \"abccdef\", \"caaacab\", and \"cbca\".\n",
    "\n",
    "Return the shortest completing word in words. It is guaranteed an answer exists. If there are multiple shortest completing words, return the first one that occurs in words.\n",
    "\n",
    "- Input: licensePlate = \"1s3 PSt\",\n",
    "-    words = [\"step\",\"steps\",\"stripe\",\"stepple\"]\n",
    "- Output: \"steps\"\n",
    "- Explanation: licensePlate contains letters 's', 'p', 's' (ignoring case), and 't'.\n",
    "-  \"step\" contains 't' and 'p', but only contains 1 's'.\n",
    "-  \"steps\" contains 't', 'p', and both 's' characters.\n",
    "-  \"stripe\" is missing an 's'.\n",
    "-  \"stepple\" is missing an 's'.\n",
    "-  Since \"steps\" is the only word containing all the letters, that is the answer."
   ]
  },
  {
   "cell_type": "code",
   "execution_count": 1,
   "id": "1093f456",
   "metadata": {},
   "outputs": [
    {
     "data": {
      "text/plain": [
       "'according'"
      ]
     },
     "execution_count": 1,
     "metadata": {},
     "output_type": "execute_result"
    }
   ],
   "source": [
    "def shortestCompletingWord(lp, words):\n",
    "    lp_dic = {}\n",
    "    lp = lp.replace(\" \",\"\")\n",
    "    for i in lp:\n",
    "        i = i.lower()\n",
    "        if not i.isdigit() :\n",
    "            if i.lower() in lp_dic:\n",
    "                lp_dic[i] += 1\n",
    "            else:\n",
    "                lp_dic[i] = 1\n",
    "    \n",
    "    matching_words = []\n",
    "    for word in words:\n",
    "        word_dict = {}\n",
    "        for i in word:\n",
    "            if i in lp_dic.keys():\n",
    "                if i in word_dict:\n",
    "                    word_dict[i] += 1\n",
    "                else:\n",
    "                    word_dict[i] = 1\n",
    "        if all(word_dict.get(char, 0) >= count for char, count in lp_dic.items()):\n",
    "            matching_words.append(word)\n",
    "            \n",
    "    out = min(matching_words,key=len, default=[])\n",
    "    return out\n",
    "            \n",
    "\n",
    "licensePlate = \"GrC8950\"\n",
    "words = [\"measure\",\"other\",\"every\",\"base\",\"according\",\"level\",\"meeting\",\"none\",\"marriage\",\"rest\"]\n",
    "\n",
    "shortestCompletingWord(licensePlate, words)"
   ]
  },
  {
   "cell_type": "code",
   "execution_count": null,
   "id": "4cee5393",
   "metadata": {},
   "outputs": [],
   "source": []
  }
 ],
 "metadata": {
  "kernelspec": {
   "display_name": "Python 3 (ipykernel)",
   "language": "python",
   "name": "python3"
  },
  "language_info": {
   "codemirror_mode": {
    "name": "ipython",
    "version": 3
   },
   "file_extension": ".py",
   "mimetype": "text/x-python",
   "name": "python",
   "nbconvert_exporter": "python",
   "pygments_lexer": "ipython3",
   "version": "3.10.9"
  }
 },
 "nbformat": 4,
 "nbformat_minor": 5
}
