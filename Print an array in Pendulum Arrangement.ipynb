{
 "cells": [
  {
   "cell_type": "markdown",
   "id": "11f8e138",
   "metadata": {},
   "source": [
    "## Print an array in Pendulum Arrangement\n",
    "Given an array arr of size n. Arrange the elements of the array in a way similar to the to-and-fro movement of a Pendulum.\n",
    "\n",
    "The minimum element out of the list of integers, must come in center position of array. If there are even elements, then minimum element should be moved to (n-1)/2 index (considering that indexes start from 0)\n",
    "The next number (next to minimum) in the ascending order, goes to the right, the next to next number goes to the left of minimum number and it continues like a Pendulum.\n",
    "As higher numbers are reached, one goes to one side in a to-and-fro manner similar to that of a Pendulum"
   ]
  },
  {
   "cell_type": "code",
   "execution_count": 1,
   "id": "e94e7757",
   "metadata": {},
   "outputs": [
    {
     "data": {
      "text/plain": [
       "[14, 11, 5, 6, 12, 31]"
      ]
     },
     "execution_count": 1,
     "metadata": {},
     "output_type": "execute_result"
    }
   ],
   "source": [
    "def pendulumArrangement(arr):\n",
    "    arr.sort()\n",
    "    a = []\n",
    "    n = len(arr)\n",
    "    for i in range(n):\n",
    "        if i % 2 == 0:\n",
    "            a.append(arr[i])\n",
    "    a.reverse()\n",
    "    \n",
    "    for i in range(n):\n",
    "        if i % 2 != 0:\n",
    "            a.append(arr[i])\n",
    "    \n",
    "    return a\n",
    "\n",
    "arr = [11, 12, 31, 14, 5, 6]\n",
    "pendulumArrangement(arr)"
   ]
  },
  {
   "cell_type": "code",
   "execution_count": 2,
   "id": "9b923366",
   "metadata": {},
   "outputs": [
    {
     "data": {
      "text/plain": [
       "[14, 11, 5, 6, 12, 31]"
      ]
     },
     "execution_count": 2,
     "metadata": {},
     "output_type": "execute_result"
    }
   ],
   "source": [
    "def pendulam(arr):\n",
    "    arr.sort()\n",
    "    output = [0] * len(arr)\n",
    "    \n",
    "    left = (len(arr)-1) // 2\n",
    "    right = left + 1\n",
    "    \n",
    "    for i in range(len(arr)):\n",
    "        if i % 2 == 0:\n",
    "            output[left] = arr[i]\n",
    "            left -= 1\n",
    "        else:\n",
    "            output[right] = arr[i]\n",
    "            right += 1\n",
    "    return output\n",
    "  \n",
    "arr1 = [11, 12, 31, 14, 5, 6]\n",
    "pendulam(arr1)"
   ]
  },
  {
   "cell_type": "code",
   "execution_count": null,
   "id": "56f06caa",
   "metadata": {},
   "outputs": [],
   "source": []
  }
 ],
 "metadata": {
  "kernelspec": {
   "display_name": "Python 3 (ipykernel)",
   "language": "python",
   "name": "python3"
  },
  "language_info": {
   "codemirror_mode": {
    "name": "ipython",
    "version": 3
   },
   "file_extension": ".py",
   "mimetype": "text/x-python",
   "name": "python",
   "nbconvert_exporter": "python",
   "pygments_lexer": "ipython3",
   "version": "3.10.9"
  }
 },
 "nbformat": 4,
 "nbformat_minor": 5
}
