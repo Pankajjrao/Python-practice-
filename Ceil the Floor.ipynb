{
 "cells": [
  {
   "cell_type": "markdown",
   "id": "3cf4ec63",
   "metadata": {},
   "source": [
    "# Ceil the Floor\n",
    "Given an unsorted array Arr[] of N integers and an integer X, find floor and ceiling of X in Arr[0..N-1].\n",
    "\n",
    "Floor of X is the largest element which is smaller than or equal to X. Floor of X doesn’t exist if X is smaller than smallest element of Arr[].\n",
    "\n",
    "Ceil of X is the smallest element which is greater than or equal to X. Ceil of X doesn’t exist if X is greater than greatest element of Arr[]."
   ]
  },
  {
   "cell_type": "code",
   "execution_count": 1,
   "id": "1d9d41ee",
   "metadata": {},
   "outputs": [
    {
     "data": {
      "text/plain": [
       "(-1, 9)"
      ]
     },
     "execution_count": 1,
     "metadata": {},
     "output_type": "execute_result"
    }
   ],
   "source": [
    "def getFloorAndCeil(arr, x):\n",
    "    floor = -1\n",
    "    ceil = -1\n",
    "    n = len(arr)\n",
    "    left, right = 0, n - 1\n",
    "    arr.sort()\n",
    "\n",
    "    while left <= right:\n",
    "        mid = left + (right - left) // 2\n",
    "\n",
    "        if arr[mid] == x:\n",
    "            return x, x\n",
    "        elif arr[mid] < x:\n",
    "            floor = arr[mid]\n",
    "            left = mid + 1\n",
    "        else:\n",
    "            ceil = arr[mid]\n",
    "            right = mid - 1\n",
    "\n",
    "    return floor, ceil\n",
    "\n",
    "arr = [65, 63, 39, 57, 9, 29]\n",
    "x = 2\n",
    "getFloorAndCeil(arr, x)"
   ]
  },
  {
   "cell_type": "code",
   "execution_count": 2,
   "id": "a52083c1",
   "metadata": {},
   "outputs": [
    {
     "data": {
      "text/plain": [
       "(-1, 9)"
      ]
     },
     "execution_count": 2,
     "metadata": {},
     "output_type": "execute_result"
    }
   ],
   "source": [
    "def getFloorAndCeil1(arr,x):\n",
    "    if x in arr:\n",
    "        return x,x\n",
    "    \n",
    "    floor = 0\n",
    "    b = min(arr)\n",
    "    if x <= b:\n",
    "        floor = -1\n",
    "    else :\n",
    "        for i in arr:\n",
    "            if i <= x and i > floor:\n",
    "                floor = i\n",
    "    \n",
    "    a = max(arr)\n",
    "    ceil = a\n",
    "    if x >= a:\n",
    "        return floor,-1\n",
    "    else:\n",
    "        for i in arr:\n",
    "            if i >= x and i < ceil:\n",
    "                ceil = i\n",
    "    return floor,ceil\n",
    "\n",
    "arr = [65, 63, 39, 57, 9, 29]\n",
    "x = 2\n",
    "getFloorAndCeil(arr, x)"
   ]
  },
  {
   "cell_type": "code",
   "execution_count": null,
   "id": "dd2cb3ee",
   "metadata": {},
   "outputs": [],
   "source": []
  }
 ],
 "metadata": {
  "kernelspec": {
   "display_name": "Python 3 (ipykernel)",
   "language": "python",
   "name": "python3"
  },
  "language_info": {
   "codemirror_mode": {
    "name": "ipython",
    "version": 3
   },
   "file_extension": ".py",
   "mimetype": "text/x-python",
   "name": "python",
   "nbconvert_exporter": "python",
   "pygments_lexer": "ipython3",
   "version": "3.10.9"
  }
 },
 "nbformat": 4,
 "nbformat_minor": 5
}
