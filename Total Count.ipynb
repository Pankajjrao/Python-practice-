{
 "cells": [
  {
   "cell_type": "markdown",
   "id": "23d3ccbf",
   "metadata": {},
   "source": [
    "## Total Count\n"
   ]
  },
  {
   "cell_type": "code",
   "execution_count": 3,
   "id": "089fe5ae",
   "metadata": {},
   "outputs": [
    {
     "data": {
      "text/plain": [
       "(8, [[4, 4, 2], [2], [3], [4], [4, 3]])"
      ]
     },
     "execution_count": 3,
     "metadata": {},
     "output_type": "execute_result"
    }
   ],
   "source": [
    "def counter(arr, k):\n",
    "    count_list = []\n",
    "    total = 0\n",
    "    for i in Arr:\n",
    "        mod = i % k\n",
    "        div = i // k\n",
    "        count = []\n",
    "        for i in range(div):\n",
    "            count.append(k)\n",
    "            total += 1\n",
    "        if mod :\n",
    "            count.append(mod)\n",
    "            total += 1\n",
    "        count_list.append(count)\n",
    "    return total, count_list\n",
    "\n",
    "\n",
    "        \n",
    "Arr = [10, 2, 3, 4, 7]\n",
    "k = 4\n",
    "counter(Arr,k)\n"
   ]
  },
  {
   "cell_type": "code",
   "execution_count": null,
   "id": "50e8980d",
   "metadata": {},
   "outputs": [],
   "source": []
  }
 ],
 "metadata": {
  "kernelspec": {
   "display_name": "Python 3 (ipykernel)",
   "language": "python",
   "name": "python3"
  },
  "language_info": {
   "codemirror_mode": {
    "name": "ipython",
    "version": 3
   },
   "file_extension": ".py",
   "mimetype": "text/x-python",
   "name": "python",
   "nbconvert_exporter": "python",
   "pygments_lexer": "ipython3",
   "version": "3.10.9"
  }
 },
 "nbformat": 4,
 "nbformat_minor": 5
}
