{
 "cells": [
  {
   "cell_type": "markdown",
   "id": "23d3ccbf",
   "metadata": {},
   "source": [
    "## Extract Maximum\n",
    "Given a alphanumeric string S, extract maximum numeric value from S."
   ]
  },
  {
   "cell_type": "code",
   "execution_count": 1,
   "id": "b47646c4",
   "metadata": {},
   "outputs": [
    {
     "data": {
      "text/plain": [
       "1000000"
      ]
     },
     "execution_count": 1,
     "metadata": {},
     "output_type": "execute_result"
    }
   ],
   "source": [
    " def extractMaximum(S): \n",
    "        max_word = 0\n",
    "        word = \"\"\n",
    "        for i in S:\n",
    "            if i.isdigit():\n",
    "                word += i\n",
    "            else:\n",
    "                if word :\n",
    "                    max_word = max(int(word),max_word)\n",
    "                    word = \"\"\n",
    "        if word:\n",
    "            max_word = max(max_word,int(word))\n",
    "\n",
    "        if max_word:\n",
    "            return max_word\n",
    "        else:\n",
    "            return -1\n",
    "\n",
    "S = \"1000000\"\n",
    "extractMaximum(S)"
   ]
  },
  {
   "cell_type": "code",
   "execution_count": null,
   "id": "089fe5ae",
   "metadata": {},
   "outputs": [],
   "source": []
  }
 ],
 "metadata": {
  "kernelspec": {
   "display_name": "Python 3 (ipykernel)",
   "language": "python",
   "name": "python3"
  },
  "language_info": {
   "codemirror_mode": {
    "name": "ipython",
    "version": 3
   },
   "file_extension": ".py",
   "mimetype": "text/x-python",
   "name": "python",
   "nbconvert_exporter": "python",
   "pygments_lexer": "ipython3",
   "version": "3.10.9"
  }
 },
 "nbformat": 4,
 "nbformat_minor": 5
}
