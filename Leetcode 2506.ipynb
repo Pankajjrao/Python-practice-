{
 "cells": [
  {
   "cell_type": "markdown",
   "id": "733fbebf",
   "metadata": {},
   "source": [
    "## 2506. Count Pairs Of Similar Strings\n",
    "You are given a 0-indexed string array words.\n",
    "\n",
    "Two strings are similar if they consist of the same characters.\n",
    "\n",
    "For example, \"abca\" and \"cba\" are similar since both consist of characters 'a', 'b', and 'c'.\n",
    "However, \"abacba\" and \"bcfd\" are not similar since they do not consist of the same characters.\n",
    "Return the number of pairs (i, j) such that 0 <= i < j <= word.length - 1 and the two strings words[i] and words[j] are similar.\n",
    "\n",
    "Example 1:\n",
    "\n",
    " - Input: words = [\"aba\",\"aabb\",\"abcd\",\"bac\",\"aabc\"]\n",
    " - Output: 2\n",
    "- Explanation: There are 2 pairs that satisfy the conditions:\n",
    "- - i = 0 and j = 1 : both words[0] and words[1] only consist of characters 'a' and 'b'. \n",
    "- - i = 3 and j = 4 : both words[3] and words[4] only consist of characters 'a', 'b', and 'c'."
   ]
  },
  {
   "cell_type": "code",
   "execution_count": 1,
   "id": "605a708b",
   "metadata": {},
   "outputs": [
    {
     "data": {
      "text/plain": [
       "3"
      ]
     },
     "execution_count": 1,
     "metadata": {},
     "output_type": "execute_result"
    }
   ],
   "source": [
    "def similarPairs(words):\n",
    "    words_set = [set(word) for word in words]\n",
    "    count = 0\n",
    "    for i in range(len(words_set)):\n",
    "        for j in range(i+1, len(words_set)):\n",
    "            if words_set[i] == words_set[j] :\n",
    "                count += 1\n",
    "    return count\n",
    "\n",
    "words = [\"aabb\",\"ab\",\"ba\"]\n",
    "similarPairs(words)"
   ]
  },
  {
   "cell_type": "code",
   "execution_count": null,
   "id": "3395780f",
   "metadata": {},
   "outputs": [],
   "source": []
  },
  {
   "cell_type": "code",
   "execution_count": null,
   "id": "c7c813d6",
   "metadata": {},
   "outputs": [],
   "source": []
  },
  {
   "cell_type": "code",
   "execution_count": null,
   "id": "3ccfbc81",
   "metadata": {},
   "outputs": [],
   "source": []
  },
  {
   "cell_type": "code",
   "execution_count": null,
   "id": "825af8f7",
   "metadata": {},
   "outputs": [],
   "source": []
  }
 ],
 "metadata": {
  "kernelspec": {
   "display_name": "Python 3 (ipykernel)",
   "language": "python",
   "name": "python3"
  },
  "language_info": {
   "codemirror_mode": {
    "name": "ipython",
    "version": 3
   },
   "file_extension": ".py",
   "mimetype": "text/x-python",
   "name": "python",
   "nbconvert_exporter": "python",
   "pygments_lexer": "ipython3",
   "version": "3.10.9"
  }
 },
 "nbformat": 4,
 "nbformat_minor": 5
}
