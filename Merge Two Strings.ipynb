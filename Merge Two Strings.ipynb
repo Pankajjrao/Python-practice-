{
 "cells": [
  {
   "cell_type": "markdown",
   "id": "11f8e138",
   "metadata": {},
   "source": [
    "## Merge Two strings\n",
    "Given two strings S1 and S2 as input, the task is to merge them alternatively i.e. the first character of S1 then the first character of S2 and so on till the strings end.\n",
    "NOTE: Add the whole string if other string is empty."
   ]
  },
  {
   "cell_type": "code",
   "execution_count": 1,
   "id": "a188fe0d",
   "metadata": {},
   "outputs": [
    {
     "data": {
      "text/plain": [
       "'HBeylelo'"
      ]
     },
     "execution_count": 1,
     "metadata": {},
     "output_type": "execute_result"
    }
   ],
   "source": [
    "def merge(S1, S2):\n",
    "        n = min(len(S1),len(S2))\n",
    "        k = max(len(S1),len(S2))\n",
    "        new_str = \"\"\n",
    "        for i in range(n):\n",
    "            new_str += S1[i] + S2[i]\n",
    "        if len(S1) > len(S2):\n",
    "            new_str += s1[len(S2):]\n",
    "        elif len(S1) < len(S2) :\n",
    "            new_str += s2[len(S1):]            \n",
    "        return new_str\n",
    "            \n",
    "\n",
    "s1 = \"Hello\"\n",
    "s2 = \"Bye\"\n",
    "merge(s1,s2)"
   ]
  }
 ],
 "metadata": {
  "kernelspec": {
   "display_name": "Python 3 (ipykernel)",
   "language": "python",
   "name": "python3"
  },
  "language_info": {
   "codemirror_mode": {
    "name": "ipython",
    "version": 3
   },
   "file_extension": ".py",
   "mimetype": "text/x-python",
   "name": "python",
   "nbconvert_exporter": "python",
   "pygments_lexer": "ipython3",
   "version": "3.10.9"
  }
 },
 "nbformat": 4,
 "nbformat_minor": 5
}
