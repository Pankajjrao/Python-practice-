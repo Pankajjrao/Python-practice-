{
 "cells": [
  {
   "cell_type": "markdown",
   "id": "83c35f8f",
   "metadata": {},
   "source": [
    "## Remove Consecutive Characters\n",
    "\n",
    "Input:\n",
    "S = aabb\n",
    "Output:  ab \n",
    "Explanation: 'a' at 2nd position is\n",
    "appearing 2nd time consecutively.\n",
    "Similiar explanation for b at\n",
    "4th position."
   ]
  },
  {
   "cell_type": "code",
   "execution_count": 1,
   "id": "e06898aa",
   "metadata": {},
   "outputs": [
    {
     "data": {
      "text/plain": [
       "'aba'"
      ]
     },
     "execution_count": 1,
     "metadata": {},
     "output_type": "execute_result"
    }
   ],
   "source": [
    "def removeConsecutiveCharacter(S):\n",
    "    i = 0\n",
    "    while i < len(S)-1 : \n",
    "        if S[i] == S[i+1]:\n",
    "            part1 = S[:i]\n",
    "            part2 = S[i + 1:] \n",
    "            S = part1 + part2 \n",
    "            i += 1\n",
    "    return S\n",
    "\n",
    "S = \"aabba\"\n",
    "removeConsecutiveCharacter(S)"
   ]
  },
  {
   "cell_type": "code",
   "execution_count": null,
   "id": "f9b9d333",
   "metadata": {},
   "outputs": [],
   "source": []
  }
 ],
 "metadata": {
  "kernelspec": {
   "display_name": "Python 3 (ipykernel)",
   "language": "python",
   "name": "python3"
  },
  "language_info": {
   "codemirror_mode": {
    "name": "ipython",
    "version": 3
   },
   "file_extension": ".py",
   "mimetype": "text/x-python",
   "name": "python",
   "nbconvert_exporter": "python",
   "pygments_lexer": "ipython3",
   "version": "3.10.9"
  }
 },
 "nbformat": 4,
 "nbformat_minor": 5
}
