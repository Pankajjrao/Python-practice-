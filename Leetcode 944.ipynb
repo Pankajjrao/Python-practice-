{
 "cells": [
  {
   "cell_type": "markdown",
   "id": "733fbebf",
   "metadata": {},
   "source": [
    "## 944. Delete Columns to Make Sorted\n",
    "You are given an array of n strings strs, all of the same length.\n",
    "\n",
    "The strings can be arranged such that there is one on each line, making a grid.\n",
    "\n",
    "For example, strs = [\"abc\", \"bce\", \"cae\"] can be arranged as follows:\n",
    "- abc\n",
    "- bce\n",
    "- cae\n",
    "\n",
    "You want to delete the columns that are not sorted lexicographically. In the above example (0-indexed), columns 0 ('a', 'b', 'c') and 2 ('c', 'e', 'e') are sorted, while column 1 ('b', 'c', 'a') is not, so you would delete column 1.\n",
    "\n",
    "Return the number of columns that you will delete."
   ]
  },
  {
   "cell_type": "code",
   "execution_count": 3,
   "id": "681aff21",
   "metadata": {},
   "outputs": [
    {
     "data": {
      "text/plain": [
       "3"
      ]
     },
     "execution_count": 3,
     "metadata": {},
     "output_type": "execute_result"
    }
   ],
   "source": [
    "def counters(strs):\n",
    "    l = len(strs)\n",
    "    counter = 0\n",
    "    for i in range(len(strs[0])):\n",
    "        prev = strs[0][i]\n",
    "        for j in range(1, l):\n",
    "            if prev > strs[j][i] :\n",
    "                counter += 1\n",
    "                break\n",
    "            prev = strs[j][i]\n",
    "    return counter\n",
    "    \n",
    "\n",
    "strs = [\"zyx\",\"wvu\",\"tsr\"] \n",
    "counters(strs)"
   ]
  },
  {
   "cell_type": "code",
   "execution_count": null,
   "id": "2331b39f",
   "metadata": {},
   "outputs": [],
   "source": []
  }
 ],
 "metadata": {
  "kernelspec": {
   "display_name": "Python 3 (ipykernel)",
   "language": "python",
   "name": "python3"
  },
  "language_info": {
   "codemirror_mode": {
    "name": "ipython",
    "version": 3
   },
   "file_extension": ".py",
   "mimetype": "text/x-python",
   "name": "python",
   "nbconvert_exporter": "python",
   "pygments_lexer": "ipython3",
   "version": "3.10.9"
  }
 },
 "nbformat": 4,
 "nbformat_minor": 5
}
