{
 "cells": [
  {
   "cell_type": "markdown",
   "id": "2c26997f",
   "metadata": {},
   "source": [
    "## Missing number in shuffled array\n",
    "Given an array A of size N. The contents of A are copied into another array B and numbers are shuffled. Also, one element is removed from B. The task is to find the missing element.\n",
    "\n",
    " \n",
    "Example 1:\n",
    "Input : \n",
    "A[] = {4, 8, 1, 3, 7}\n",
    "B[] = {7, 4, 3, 1}\n",
    "Output : 8\n",
    "Explanation:\n",
    "8 is the only element missing from B."
   ]
  },
  {
   "cell_type": "code",
   "execution_count": 1,
   "id": "fc70c1f7",
   "metadata": {},
   "outputs": [
    {
     "data": {
      "text/plain": [
       "8"
      ]
     },
     "execution_count": 1,
     "metadata": {},
     "output_type": "execute_result"
    }
   ],
   "source": [
    "def findMissing(a, b, n):\n",
    "        a.sort()\n",
    "        b.sort()\n",
    "        \n",
    "        i = 0        \n",
    "        while i != n:\n",
    "            if i >= len(b):\n",
    "                return (a[n-1])\n",
    "                break\n",
    "                \n",
    "            if a[i] != b[i]:\n",
    "                return (a[i])\n",
    "                break\n",
    "            i += 1\n",
    "\n",
    "a = [4, 8, 1, 3, 7]\n",
    "b = [7, 4, 3, 1]\n",
    "n = len(a)\n",
    "findMissing(a, b, n)"
   ]
  },
  {
   "cell_type": "code",
   "execution_count": null,
   "id": "d48a3fc9",
   "metadata": {},
   "outputs": [],
   "source": []
  }
 ],
 "metadata": {
  "kernelspec": {
   "display_name": "Python 3 (ipykernel)",
   "language": "python",
   "name": "python3"
  },
  "language_info": {
   "codemirror_mode": {
    "name": "ipython",
    "version": 3
   },
   "file_extension": ".py",
   "mimetype": "text/x-python",
   "name": "python",
   "nbconvert_exporter": "python",
   "pygments_lexer": "ipython3",
   "version": "3.10.9"
  }
 },
 "nbformat": 4,
 "nbformat_minor": 5
}
