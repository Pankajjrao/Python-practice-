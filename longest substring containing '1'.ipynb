{
 "cells": [
  {
   "cell_type": "markdown",
   "id": "f66956ec",
   "metadata": {},
   "source": [
    "## longest substring containing '1'\n",
    "we have to find the length of the longest substring that is made of only 1's"
   ]
  },
  {
   "cell_type": "code",
   "execution_count": 1,
   "id": "2c464a26",
   "metadata": {},
   "outputs": [
    {
     "data": {
      "text/plain": [
       "3"
      ]
     },
     "execution_count": 1,
     "metadata": {},
     "output_type": "execute_result"
    }
   ],
   "source": [
    "# First approach\n",
    "\n",
    "def maxlen(s):\n",
    "    max_count = 0\n",
    "    count = 0\n",
    "    for i in s:\n",
    "        if i == '1':\n",
    "            count += 1\n",
    "        else:\n",
    "            count = 0\n",
    "        max_count = max(count, max_count)\n",
    "    return max_count\n",
    "\n",
    "s = \"010010001110100111\"\n",
    "maxlen(s)"
   ]
  },
  {
   "cell_type": "code",
   "execution_count": 2,
   "id": "1358a956",
   "metadata": {},
   "outputs": [
    {
     "data": {
      "text/plain": [
       "3"
      ]
     },
     "execution_count": 2,
     "metadata": {},
     "output_type": "execute_result"
    }
   ],
   "source": [
    "# second approach \n",
    "\n",
    "def maxlen1(s):\n",
    "    s = s.split(\"0\")\n",
    "    l = []\n",
    "    for i in s:\n",
    "        l.append(len(i))\n",
    "    return max(l)\n",
    "\n",
    "s = \"010010001110100111\"\n",
    "maxlen(s)\n"
   ]
  },
  {
   "cell_type": "code",
   "execution_count": null,
   "id": "712b6544",
   "metadata": {},
   "outputs": [],
   "source": []
  }
 ],
 "metadata": {
  "kernelspec": {
   "display_name": "Python 3 (ipykernel)",
   "language": "python",
   "name": "python3"
  },
  "language_info": {
   "codemirror_mode": {
    "name": "ipython",
    "version": 3
   },
   "file_extension": ".py",
   "mimetype": "text/x-python",
   "name": "python",
   "nbconvert_exporter": "python",
   "pygments_lexer": "ipython3",
   "version": "3.10.9"
  }
 },
 "nbformat": 4,
 "nbformat_minor": 5
}
