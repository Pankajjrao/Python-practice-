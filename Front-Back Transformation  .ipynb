{
 "cells": [
  {
   "cell_type": "markdown",
   "id": "83c35f8f",
   "metadata": {},
   "source": [
    "## Front-Back Transformation \n",
    "Given a string S, consisting only of english alphabets, replace all the alphabets with the alphabets occuring at the same position when counted in reverse order of alphabets. For example, 'a' would be replaced by 'z', 'b' by 'y', 'c' by 'x' and so on. Any capital letters would be replaced by capital letters only."
   ]
  },
  {
   "cell_type": "code",
   "execution_count": 2,
   "id": "f9b9d333",
   "metadata": {},
   "outputs": [
    {
     "data": {
      "text/plain": [
       "'Kzmpzq'"
      ]
     },
     "execution_count": 2,
     "metadata": {},
     "output_type": "execute_result"
    }
   ],
   "source": [
    "import string\n",
    "\n",
    "def convert(s):\n",
    "    words = list(string.ascii_lowercase)\n",
    "    words_rev = words[::-1]\n",
    "    rev_word = \"\"\n",
    "    for i in s:\n",
    "        j = i.lower()\n",
    "        index = words.index(j)\n",
    "        if i.isupper():\n",
    "            rev_word += words_rev[index].upper()\n",
    "        else:\n",
    "            rev_word += words_rev[index]\n",
    "\n",
    "    return rev_word\n",
    "\n",
    "convert(\"Pankaj\")"
   ]
  },
  {
   "cell_type": "code",
   "execution_count": null,
   "id": "3fcbf7d6",
   "metadata": {},
   "outputs": [],
   "source": []
  }
 ],
 "metadata": {
  "kernelspec": {
   "display_name": "Python 3 (ipykernel)",
   "language": "python",
   "name": "python3"
  },
  "language_info": {
   "codemirror_mode": {
    "name": "ipython",
    "version": 3
   },
   "file_extension": ".py",
   "mimetype": "text/x-python",
   "name": "python",
   "nbconvert_exporter": "python",
   "pygments_lexer": "ipython3",
   "version": "3.10.9"
  }
 },
 "nbformat": 4,
 "nbformat_minor": 5
}
