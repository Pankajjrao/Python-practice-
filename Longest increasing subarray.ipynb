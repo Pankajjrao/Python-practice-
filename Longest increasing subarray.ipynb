{
 "cells": [
  {
   "cell_type": "markdown",
   "id": "2c26997f",
   "metadata": {},
   "source": [
    "## Longest increasing subarray\n",
    "Given an array containing n numbers. The problem is to find the length of the longest contiguous subarray such that every element in the subarray is strictly greater than its previous element in the same subarray.\n",
    "\n",
    " \n",
    "\n",
    "Example 1:\n",
    "\n",
    "Input:\n",
    "n = 9\n",
    "a[] = {5, 6, 3, 5, 7, 8, 9, 1, 2}\n",
    "Output:\n",
    "5"
   ]
  },
  {
   "cell_type": "code",
   "execution_count": 1,
   "id": "5be2328b",
   "metadata": {},
   "outputs": [
    {
     "data": {
      "text/plain": [
       "4"
      ]
     },
     "execution_count": 1,
     "metadata": {},
     "output_type": "execute_result"
    }
   ],
   "source": [
    "\n",
    "def lenOfLongIncSubArr(arr):\n",
    "    l = []\n",
    "    count = 1\n",
    "\n",
    "    for i in range(len(a)-1):\n",
    "        if a[i] < a[i + 1]:\n",
    "            count += 1\n",
    "        else:\n",
    "            l.append(count)\n",
    "            count = 1\n",
    "        if i == len(a) -2 :\n",
    "            l.append(count)\n",
    "    return max(l)\n",
    "\n",
    "\n",
    "a = [12, 13, 1, 5, 4, 7, 8, 10, 10, 11]\n",
    "lenOfLongIncSubArr(a)"
   ]
  },
  {
   "cell_type": "code",
   "execution_count": null,
   "id": "797282b8",
   "metadata": {},
   "outputs": [],
   "source": []
  }
 ],
 "metadata": {
  "kernelspec": {
   "display_name": "Python 3 (ipykernel)",
   "language": "python",
   "name": "python3"
  },
  "language_info": {
   "codemirror_mode": {
    "name": "ipython",
    "version": 3
   },
   "file_extension": ".py",
   "mimetype": "text/x-python",
   "name": "python",
   "nbconvert_exporter": "python",
   "pygments_lexer": "ipython3",
   "version": "3.10.9"
  }
 },
 "nbformat": 4,
 "nbformat_minor": 5
}
