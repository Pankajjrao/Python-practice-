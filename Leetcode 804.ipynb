{
 "cells": [
  {
   "cell_type": "markdown",
   "id": "733fbebf",
   "metadata": {},
   "source": [
    "## 804. Unique Morse Code Words\n",
    "International Morse Code defines a standard encoding where each letter is mapped to a series of dots and dashes, as follows:\n",
    "\n",
    "'a' maps to \".-\",\n",
    "'b' maps to \"-...\",\n",
    "'c' maps to \"-.-.\", and so on.\n",
    "For convenience, the full table for the 26 letters of the English alphabet is given below:\n",
    "\n",
    "[\".-\",\"-...\",\"-.-.\",\"-..\",\".\",\"..-.\",\"--.\",\"....\",\"..\",\".---\",\"-.-\",\".-..\",\"--\",\"-.\",\"---\",\".--.\",\"--.-\",\".-.\",\"...\",\"-\",\"..-\",\"...-\",\".--\",\"-..-\",\"-.--\",\"--..\"]\n",
    "Given an array of strings words where each word can be written as a concatenation of the Morse code of each letter.\n",
    "\n",
    "For example, \"cab\" can be written as \"-.-..--...\", which is the concatenation of \"-.-.\", \".-\", and \"-...\". We will call such a concatenation the transformation of a word.\n",
    "Return the number of different transformations among all words we have.\n",
    "\n",
    " \n",
    "\n",
    "Example 1:\n",
    "- Input: words = [\"gin\",\"zen\",\"gig\",\"msg\"]\n",
    "- Output: 2\n",
    "- Explanation: The transformation of each word is:\n",
    "- \"gin\" -> \"--...-.\"\n",
    "- \"zen\" -> \"--...-.\"\n",
    "- \"gig\" -> \"--...--.\"\n",
    "- \"msg\" -> \"--...--.\"\n",
    "- There are 2 different transformations: \"--...-.\" and \"--...--.\".\n",
    "\n",
    "Example 2:\n",
    "- Input: words = [\"a\"]\n",
    "- Output: 1"
   ]
  },
  {
   "cell_type": "code",
   "execution_count": 1,
   "id": "4cee5393",
   "metadata": {},
   "outputs": [],
   "source": [
    "import string\n",
    "def uniqueMorseRepresentations(words:list[str]):\n",
    "    morse_code=  [\".-\",\"-...\",\"-.-.\",\"-..\",\".\",\"..-.\",\"--.\",\"....\",\"..\",\".---\",\"-.-\",\".-..\",\"--\",\"-.\",\"---\",\".--.\",\"--.-\",\".-.\",\"...\",\"-\",\"..-\",\"...-\",\".--\",\"-..-\",\"-.--\",\"--..\"]\n",
    "    morse_dict = dict(zip(string.ascii_lowercase, morse_code))\n",
    "    s = set()\n",
    "    for word in words:\n",
    "        morse_name = \"\"\n",
    "        for i in word:\n",
    "            if i in morse_dict.keys():\n",
    "                morse_name += morse_dict[i]\n",
    "        s.add(morse_name)\n",
    "    return len(s)"
   ]
  },
  {
   "cell_type": "code",
   "execution_count": 2,
   "id": "1c543722",
   "metadata": {},
   "outputs": [
    {
     "data": {
      "text/plain": [
       "2"
      ]
     },
     "execution_count": 2,
     "metadata": {},
     "output_type": "execute_result"
    }
   ],
   "source": [
    "words = [\"gin\",\"zen\",\"gig\",\"msg\"]\n",
    "uniqueMorseRepresentations(words)"
   ]
  },
  {
   "cell_type": "code",
   "execution_count": null,
   "id": "96da0d72",
   "metadata": {},
   "outputs": [],
   "source": []
  }
 ],
 "metadata": {
  "kernelspec": {
   "display_name": "Python 3 (ipykernel)",
   "language": "python",
   "name": "python3"
  },
  "language_info": {
   "codemirror_mode": {
    "name": "ipython",
    "version": 3
   },
   "file_extension": ".py",
   "mimetype": "text/x-python",
   "name": "python",
   "nbconvert_exporter": "python",
   "pygments_lexer": "ipython3",
   "version": "3.10.9"
  }
 },
 "nbformat": 4,
 "nbformat_minor": 5
}
