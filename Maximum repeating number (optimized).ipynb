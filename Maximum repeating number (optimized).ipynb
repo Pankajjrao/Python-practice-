{
 "cells": [
  {
   "cell_type": "markdown",
   "id": "83c35f8f",
   "metadata": {},
   "source": [
    "## Maximum repeating number\n",
    "\n",
    "Given an array Arr of size N, the array contains numbers in range from 0 to K-1 where K is a positive integer and K <= N. Find the maximum repeating number in this array. If there are two or more maximum repeating numbers return the element having least value."
   ]
  },
  {
   "cell_type": "code",
   "execution_count": 21,
   "id": "3ccfbc81",
   "metadata": {},
   "outputs": [
    {
     "name": "stdout",
     "output_type": "stream",
     "text": [
      "{2: 3, 1: 1}\n",
      "2\n"
     ]
    }
   ],
   "source": [
    "arr = [2, 2, 1, 2]\n",
    "d = {}\n",
    "for i in arr:\n",
    "    d[i] = d.get(i,0) + 1\n",
    "print(d)        \n",
    "\n",
    "l = [k for k,v in d.items() if v == max(d.values())]\n",
    "print(min(l))"
   ]
  },
  {
   "cell_type": "code",
   "execution_count": 27,
   "id": "bb19c8ef",
   "metadata": {},
   "outputs": [
    {
     "data": {
      "text/plain": [
       "'NOT AVAILABLE'"
      ]
     },
     "execution_count": 27,
     "metadata": {},
     "output_type": "execute_result"
    }
   ],
   "source": []
  },
  {
   "cell_type": "code",
   "execution_count": 9,
   "id": "b5abe1cd",
   "metadata": {},
   "outputs": [
    {
     "name": "stdout",
     "output_type": "stream",
     "text": [
      "2\n"
     ]
    }
   ],
   "source": [
    "arr = [2, 2, 1, 2]\n",
    "\n",
    "max_count = 0\n",
    "max_char = float('inf')  # set to positive infinity initially\n",
    "\n",
    "for num in set(arr):\n",
    "    count = arr.count(num)\n",
    "    if count > max_count or (count == max_count and num < max_char):\n",
    "        max_count = count\n",
    "        max_char = num\n",
    "\n",
    "print(max_char)\n"
   ]
  },
  {
   "cell_type": "code",
   "execution_count": 10,
   "id": "c7630dba",
   "metadata": {},
   "outputs": [
    {
     "name": "stdout",
     "output_type": "stream",
     "text": [
      "2\n"
     ]
    }
   ],
   "source": [
    "# MOST Optimized one\n",
    "\n",
    "arr = [2, 2, 1, 2]\n",
    "\n",
    "count_dict = {}\n",
    "max_count = 0\n",
    "max_char = float('inf')\n",
    "\n",
    "for num in arr:\n",
    "    count_dict[num] = count_dict.get(num, 0) + 1\n",
    "    if count_dict[num] > max_count or (count_dict[num] == max_count and num < max_char):\n",
    "        max_count = count_dict[num]\n",
    "        max_char = num\n",
    "\n",
    "if max_char != float('inf'):\n",
    "    print(max_char)\n",
    "else:\n",
    "    print(\"No elements in the array.\")\n"
   ]
  },
  {
   "cell_type": "code",
   "execution_count": 16,
   "id": "6186b208",
   "metadata": {},
   "outputs": [
    {
     "data": {
      "text/plain": [
       "3"
      ]
     },
     "execution_count": 16,
     "metadata": {},
     "output_type": "execute_result"
    }
   ],
   "source": [
    "count_dict.get(2,0)"
   ]
  },
  {
   "cell_type": "code",
   "execution_count": null,
   "id": "d97e7d57",
   "metadata": {},
   "outputs": [],
   "source": []
  }
 ],
 "metadata": {
  "kernelspec": {
   "display_name": "Python 3 (ipykernel)",
   "language": "python",
   "name": "python3"
  },
  "language_info": {
   "codemirror_mode": {
    "name": "ipython",
    "version": 3
   },
   "file_extension": ".py",
   "mimetype": "text/x-python",
   "name": "python",
   "nbconvert_exporter": "python",
   "pygments_lexer": "ipython3",
   "version": "3.10.9"
  }
 },
 "nbformat": 4,
 "nbformat_minor": 5
}
