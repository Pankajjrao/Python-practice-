{
 "cells": [
  {
   "cell_type": "markdown",
   "id": "733fbebf",
   "metadata": {},
   "source": [
    "## 806. Number of Lines To Write String\n",
    "\n",
    "You are given a string s of lowercase English letters and an array widths denoting how many pixels wide each lowercase English letter is. Specifically, widths[0] is the width of 'a', widths[1] is the width of 'b', and so on.\n",
    "\n",
    "You are trying to write s across several lines, where each line is no longer than 100 pixels. Starting at the beginning of s, write as many letters on the first line such that the total width does not exceed 100 pixels. Then, from where you stopped in s, continue writing as many letters as you can on the second line. Continue this process until you have written all of s.\n",
    "\n",
    "Return an array result of length 2 where:\n",
    "\n",
    "- - result[0] is the total number of lines.\n",
    "- - result[1] is the width of the last line in pixels.\n",
    "\n",
    "Input: widths = [4,10,10,10,10,10,10,10,10,10,10,10,10,10,10,10,10,10,10,10,10,10,10,10,10,10], s = \"bbbcccdddaaa\"\n",
    "\n",
    "Output: [2,4]\n",
    "\n",
    "Explanation: You can write s as follows:\n",
    "- bbbcccdddaa  // 98 pixels wide\n",
    "- a            // 4 pixels wide\n",
    "- There are a total of 2 lines, and the last line is 4 pixels wide."
   ]
  },
  {
   "cell_type": "code",
   "execution_count": 1,
   "id": "4cee5393",
   "metadata": {},
   "outputs": [
    {
     "data": {
      "text/plain": [
       "[3, 60]"
      ]
     },
     "execution_count": 1,
     "metadata": {},
     "output_type": "execute_result"
    }
   ],
   "source": [
    "def numberOfLines(widths:list[int], s: str) -> list[int]:   \n",
    "    total = 0\n",
    "    lines = 1\n",
    "    for i in s:\n",
    "        letter_width = widths[ord(i) - ord('a')]\n",
    "        if total+letter_width > 100:\n",
    "            lines += 1\n",
    "            total = 0\n",
    "        total += letter_width\n",
    "    return [lines,total]\n",
    "        \n",
    "    \n",
    "    \n",
    "\n",
    "widths = [10,10,10,10,10,10,10,10,10,10,10,10,10,10,10,10,10,10,10,10,10,10,10,10,10,10]\n",
    "s = \"abcdefghijklmnopqrstuvwxyz\"\n",
    "numberOfLines(widths,s)"
   ]
  },
  {
   "cell_type": "code",
   "execution_count": null,
   "id": "96da0d72",
   "metadata": {},
   "outputs": [],
   "source": []
  }
 ],
 "metadata": {
  "kernelspec": {
   "display_name": "Python 3 (ipykernel)",
   "language": "python",
   "name": "python3"
  },
  "language_info": {
   "codemirror_mode": {
    "name": "ipython",
    "version": 3
   },
   "file_extension": ".py",
   "mimetype": "text/x-python",
   "name": "python",
   "nbconvert_exporter": "python",
   "pygments_lexer": "ipython3",
   "version": "3.10.9"
  }
 },
 "nbformat": 4,
 "nbformat_minor": 5
}
