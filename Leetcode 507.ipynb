{
 "cells": [
  {
   "cell_type": "markdown",
   "id": "733fbebf",
   "metadata": {},
   "source": [
    "## 507. Perfect Number\n",
    "Easy\n",
    "Topics\n",
    "Companies\n",
    "A perfect number is a positive integer that is equal to the sum of its positive divisors, excluding the number itself. A divisor of an integer x is an integer that can divide x evenly.\n",
    "\n",
    "Given an integer n, return true if n is a perfect number, otherwise return false.\n",
    "\n",
    " \n",
    "\n",
    "Example 1:\n",
    "\n",
    "Input: num = 28\n",
    "Output: true\n",
    "Explanation: 28 = 1 + 2 + 4 + 7 + 14\n",
    "1, 2, 4, 7, and 14 are all divisors of 28.\n",
    "Example 2:\n",
    "\n",
    "Input: num = 7\n",
    "Output: false\n"
   ]
  },
  {
   "cell_type": "code",
   "execution_count": 1,
   "id": "605a708b",
   "metadata": {},
   "outputs": [],
   "source": [
    "def perfecta(num):\n",
    "    divisors = []\n",
    "    for i in range(1,num):\n",
    "        if num % i == 0 :\n",
    "            divisors.append(i)\n",
    "    print(divisors)\n",
    "    divisors_sum = 0\n",
    "    for i in divisors:\n",
    "        divisors_sum += i\n",
    "    if divisors_sum == num:\n",
    "        return True\n",
    "    return False\n",
    "\n"
   ]
  },
  {
   "cell_type": "code",
   "execution_count": 2,
   "id": "59dc959d",
   "metadata": {},
   "outputs": [],
   "source": [
    "def perfectb(num):\n",
    "    divisors_sum = sum([i for i in range(1,num) if num % i == 0] )\n",
    "    return divisors_sum == num\n",
    "        "
   ]
  },
  {
   "cell_type": "code",
   "execution_count": 3,
   "id": "d4bcdc89",
   "metadata": {},
   "outputs": [],
   "source": [
    "def perfectc(num):\n",
    "    total = 0\n",
    "    for i in range(1,int(num ** 0.5)+1):\n",
    "        if num % i == 0:\n",
    "            total += i\n",
    "            if i*i != num:\n",
    "                quotent = num//i\n",
    "                total += quotent\n",
    "    return total-num == num\n",
    "        "
   ]
  },
  {
   "cell_type": "code",
   "execution_count": 4,
   "id": "3eff4ce4",
   "metadata": {},
   "outputs": [
    {
     "name": "stdout",
     "output_type": "stream",
     "text": [
      "[1, 2, 4, 8, 12499999, 24999998, 49999996]\n",
      "a : False\n",
      "b : False\n",
      "c : False\n"
     ]
    }
   ],
   "source": [
    "print(f'a :',perfecta(99999992))\n",
    "print(f'b :',perfectb(99999992))\n",
    "print(f'c :',perfectc(99999992))"
   ]
  },
  {
   "cell_type": "code",
   "execution_count": null,
   "id": "76924e75",
   "metadata": {},
   "outputs": [],
   "source": []
  }
 ],
 "metadata": {
  "kernelspec": {
   "display_name": "Python 3 (ipykernel)",
   "language": "python",
   "name": "python3"
  },
  "language_info": {
   "codemirror_mode": {
    "name": "ipython",
    "version": 3
   },
   "file_extension": ".py",
   "mimetype": "text/x-python",
   "name": "python",
   "nbconvert_exporter": "python",
   "pygments_lexer": "ipython3",
   "version": "3.10.9"
  }
 },
 "nbformat": 4,
 "nbformat_minor": 5
}
