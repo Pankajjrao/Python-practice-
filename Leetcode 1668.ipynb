{
 "cells": [
  {
   "cell_type": "markdown",
   "id": "733fbebf",
   "metadata": {},
   "source": [
    "## 1668. Maximum Repeating Substring\n",
    "For a string sequence, a string word is k-repeating if word concatenated k times is a substring of sequence. The word's maximum k-repeating value is the highest value k where word is k-repeating in sequence. If word is not a substring of sequence, word's maximum k-repeating value is 0.\n",
    "\n",
    "Given strings sequence and word, return the maximum k-repeating value of word in sequence.\n",
    "\n",
    "Example 1:\n",
    "- Input: sequence = \"ababc\", word = \"ab\"\n",
    "- Output: 2\n",
    "- Explanation: \"abab\" is a substring in \"ababc\"."
   ]
  },
  {
   "cell_type": "code",
   "execution_count": 1,
   "id": "605a708b",
   "metadata": {},
   "outputs": [
    {
     "data": {
      "text/plain": [
       "5"
      ]
     },
     "execution_count": 1,
     "metadata": {},
     "output_type": "execute_result"
    }
   ],
   "source": [
    "def maxRepeating(sequence,word):\n",
    "    temp = word\n",
    "    if word not in sequence:\n",
    "        return 0\n",
    "    count = 0\n",
    "    while word in sequence:\n",
    "        count += 1\n",
    "        word += temp\n",
    "    return count\n",
    "    \n",
    "#5\n",
    "sequence = \"aaabaaaabaaabaaaabaaaabaaaabaaaaba\"\n",
    "word = \"aaaba\"\n",
    "maxRepeating(sequence, word)"
   ]
  },
  {
   "cell_type": "code",
   "execution_count": null,
   "id": "3395780f",
   "metadata": {},
   "outputs": [],
   "source": []
  },
  {
   "cell_type": "code",
   "execution_count": null,
   "id": "c7c813d6",
   "metadata": {},
   "outputs": [],
   "source": []
  },
  {
   "cell_type": "code",
   "execution_count": null,
   "id": "3ccfbc81",
   "metadata": {},
   "outputs": [],
   "source": []
  },
  {
   "cell_type": "code",
   "execution_count": null,
   "id": "825af8f7",
   "metadata": {},
   "outputs": [],
   "source": []
  }
 ],
 "metadata": {
  "kernelspec": {
   "display_name": "Python 3 (ipykernel)",
   "language": "python",
   "name": "python3"
  },
  "language_info": {
   "codemirror_mode": {
    "name": "ipython",
    "version": 3
   },
   "file_extension": ".py",
   "mimetype": "text/x-python",
   "name": "python",
   "nbconvert_exporter": "python",
   "pygments_lexer": "ipython3",
   "version": "3.10.9"
  }
 },
 "nbformat": 4,
 "nbformat_minor": 5
}
