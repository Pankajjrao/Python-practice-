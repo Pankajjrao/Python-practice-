{
 "cells": [
  {
   "cell_type": "markdown",
   "id": "2c26997f",
   "metadata": {},
   "source": [
    "## Last duplicate element in a sorted array\n",
    "Given a sorted array with duplicate elements and we have to find the index of the last duplicate element and return the index of it and also return the duplicate element."
   ]
  },
  {
   "cell_type": "code",
   "execution_count": 1,
   "id": "797282b8",
   "metadata": {},
   "outputs": [
    {
     "data": {
      "text/plain": [
       "(4, 4)"
      ]
     },
     "execution_count": 1,
     "metadata": {},
     "output_type": "execute_result"
    }
   ],
   "source": [
    "def dupLastIndex (arr, n) : \n",
    "    arr = arr[::-1]\n",
    "    l = []\n",
    "    loc = 0\n",
    "    for i in range(len(arr)):\n",
    "        if arr[i] not in l:\n",
    "            l.append(arr[i])\n",
    "        else:\n",
    "            loc = i\n",
    "            element = arr[i]\n",
    "            break\n",
    "    index = n - loc\n",
    "    if len(l) == n:\n",
    "        return -1\n",
    "    return index,element\n",
    "\n",
    "arr = [1, 2, 3, 4, 4,5]\n",
    "n = len(arr)\n",
    "\n",
    "dupLastIndex (arr, n) "
   ]
  },
  {
   "cell_type": "code",
   "execution_count": 2,
   "id": "9ad07465",
   "metadata": {},
   "outputs": [
    {
     "data": {
      "text/plain": [
       "[4, 4]"
      ]
     },
     "execution_count": 2,
     "metadata": {},
     "output_type": "execute_result"
    }
   ],
   "source": [
    "def dupLastIndex1 (arr) : \n",
    "    l = [0] * 2\n",
    "    for i in range(len(arr)-1):\n",
    "        if arr[i] == arr[i+1]:\n",
    "            l[0] = i + 1\n",
    "            l[1] = arr[i]\n",
    "    if l[0] == 0 and l[1] == 0:\n",
    "        return -1\n",
    "    return l\n",
    "\n",
    "arr = [1, 2, 3, 4, 4,5]\n",
    "dupLastIndex1 (arr)"
   ]
  },
  {
   "cell_type": "code",
   "execution_count": null,
   "id": "e9e46181",
   "metadata": {},
   "outputs": [],
   "source": []
  }
 ],
 "metadata": {
  "kernelspec": {
   "display_name": "Python 3 (ipykernel)",
   "language": "python",
   "name": "python3"
  },
  "language_info": {
   "codemirror_mode": {
    "name": "ipython",
    "version": 3
   },
   "file_extension": ".py",
   "mimetype": "text/x-python",
   "name": "python",
   "nbconvert_exporter": "python",
   "pygments_lexer": "ipython3",
   "version": "3.10.9"
  }
 },
 "nbformat": 4,
 "nbformat_minor": 5
}
