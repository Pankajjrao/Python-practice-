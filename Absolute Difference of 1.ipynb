{
 "cells": [
  {
   "cell_type": "markdown",
   "id": "f66956ec",
   "metadata": {},
   "source": [
    "## Absolute Difference of 1\n",
    "Given an array arr of size n. Print all the numbers less than k and should be such that the difference between every adjacent digit should be 1 in the array."
   ]
  },
  {
   "cell_type": "code",
   "execution_count": 1,
   "id": "712b6544",
   "metadata": {},
   "outputs": [
    {
     "name": "stdout",
     "output_type": "stream",
     "text": [
      "[567, 878, 454]\n"
     ]
    }
   ],
   "source": [
    "def abc(arr,k):\n",
    "    output = []\n",
    "    for i in arr:\n",
    "        if i < k:\n",
    "            str_i = str(i)\n",
    "\n",
    "            if len(str_i) != 1:\n",
    "                adjcent_diff = True\n",
    "\n",
    "                for j in range(len(str_i)-1):\n",
    "                    diff = abs(int(str_i[j]) - int(str_i[j+1]))\n",
    "                    if diff != 1:\n",
    "                        adjcent_diff = False\n",
    "                        break\n",
    "                if adjcent_diff == 1:\n",
    "                    output.append(i)\n",
    "    return output\n",
    "    \n",
    "        \n",
    "arr = [567, 764, 465757, 5665, 878, 454, 3]\n",
    "k = 254545\n",
    "result = abc(arr, k)\n",
    "print(result)    \n"
   ]
  },
  {
   "cell_type": "code",
   "execution_count": null,
   "id": "b8987b5b",
   "metadata": {},
   "outputs": [],
   "source": []
  }
 ],
 "metadata": {
  "kernelspec": {
   "display_name": "Python 3 (ipykernel)",
   "language": "python",
   "name": "python3"
  },
  "language_info": {
   "codemirror_mode": {
    "name": "ipython",
    "version": 3
   },
   "file_extension": ".py",
   "mimetype": "text/x-python",
   "name": "python",
   "nbconvert_exporter": "python",
   "pygments_lexer": "ipython3",
   "version": "3.10.9"
  }
 },
 "nbformat": 4,
 "nbformat_minor": 5
}
